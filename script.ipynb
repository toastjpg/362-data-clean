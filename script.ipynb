{
 "cells": [
  {
   "cell_type": "code",
   "execution_count": null,
   "metadata": {},
   "outputs": [],
   "source": [
    "import pandas as pd"
   ]
  },
  {
   "cell_type": "code",
   "execution_count": null,
   "metadata": {},
   "outputs": [],
   "source": [
    "import numpy as np"
   ]
  },
  {
   "cell_type": "code",
   "execution_count": null,
   "metadata": {},
   "outputs": [],
   "source": [
    "PATH = 'raw_data/'"
   ]
  },
  {
   "cell_type": "markdown",
   "metadata": {},
   "source": [
    "### 1. Remove unused data from files\n",
    "Files currently contain data for irrelevant transport methods (skytrain, handydart, etc). \n",
    "\n",
    "For this project, we only care about bus stops. "
   ]
  },
  {
   "cell_type": "code",
   "execution_count": null,
   "metadata": {},
   "outputs": [],
   "source": [
    "# Cleaning stops.txt to contain only bus stops\n",
    "stops = pd.read_csv(PATH + 'stops.txt')\n",
    "stops = stops[stops['zone_id'] == 'BUS ZN']\n",
    "\n",
    "stops.to_csv('stops.txt', columns=['stop_id','stop_code','stop_name','stop_lat','stop_lon'], index=False)"
   ]
  },
  {
   "cell_type": "code",
   "execution_count": null,
   "metadata": {},
   "outputs": [],
   "source": [
    "# Cleaning routes.txt to contain only bus routes\n",
    "routes = pd.read_csv(PATH + 'routes.txt')\n",
    "routes = routes[routes['route_type'] == 3]\n",
    "\n",
    "# routes.to_csv('routes.txt', columns=['route_id','route_short_name','route_long_name'], index=False)"
   ]
  },
  {
   "cell_type": "code",
   "execution_count": null,
   "metadata": {},
   "outputs": [],
   "source": [
    "# All bus routes identified by a unique route_id\n",
    "route_ids = set(routes['route_id'])"
   ]
  },
  {
   "cell_type": "code",
   "execution_count": null,
   "metadata": {},
   "outputs": [],
   "source": [
    "# Cleaning trips.txt to contain only records that are apart of bus routes\n",
    "trips = pd.read_csv(PATH + 'trips.txt')\n",
    "trips = trips[trips['route_id'].isin(route_ids)]\n",
    "trips.to_csv('trips.txt', columns=['route_id','trip_id','trip_headsign','service_id'], index=False)"
   ]
  },
  {
   "cell_type": "code",
   "execution_count": null,
   "metadata": {},
   "outputs": [],
   "source": [
    "# trips[~trips['service_id'].isin([1,2,3])]"
   ]
  },
  {
   "cell_type": "code",
   "execution_count": null,
   "metadata": {},
   "outputs": [],
   "source": [
    "stop_ids = set(stops['stop_id'])"
   ]
  },
  {
   "cell_type": "code",
   "execution_count": null,
   "metadata": {},
   "outputs": [],
   "source": [
    "# Cleaning stop_times.txt to only contain times for busses\n",
    "\n",
    "# stop_times.txt where stop_id in cleaned stops.txt \n",
    "stop_times = pd.read_csv(PATH + 'stop_times.txt')"
   ]
  },
  {
   "cell_type": "code",
   "execution_count": null,
   "metadata": {},
   "outputs": [],
   "source": [
    "stop_times.size"
   ]
  },
  {
   "cell_type": "code",
   "execution_count": null,
   "metadata": {},
   "outputs": [],
   "source": [
    "stop_times = stop_times[stop_times['stop_id'].isin(stop_ids)]"
   ]
  },
  {
   "cell_type": "code",
   "execution_count": null,
   "metadata": {},
   "outputs": [],
   "source": [
    "stop_times.size"
   ]
  },
  {
   "cell_type": "code",
   "execution_count": null,
   "metadata": {},
   "outputs": [],
   "source": [
    "stop_times.to_csv('stop_times.txt', columns=['trip_id','stop_id','arrival_time','departure_time','stop_sequence'], index=False)"
   ]
  },
  {
   "cell_type": "code",
   "execution_count": null,
   "metadata": {},
   "outputs": [],
   "source": [
    "# cleanup memory\n",
    "del stop_times\n",
    "del stops\n",
    "del routes\n",
    "del trips\n",
    "\n",
    "del route_ids\n",
    "del stop_ids"
   ]
  },
  {
   "cell_type": "markdown",
   "metadata": {},
   "source": [
    "### 2. Joining file contents\n"
   ]
  },
  {
   "cell_type": "code",
   "execution_count": null,
   "metadata": {},
   "outputs": [],
   "source": [
    "# TODO"
   ]
  },
  {
   "cell_type": "code",
   "execution_count": null,
   "metadata": {},
   "outputs": [],
   "source": [
    "# cleaned files with only the data we care about\n",
    "\n",
    "# stop.txt\n",
    "  # stop_id, stop_code, stop_name, stop_lat, stop_lon, next busses/routes??\n",
    "\n",
    "# routes.txt\n",
    "  # route_id, route_short_name, route_long_name, + List<trip_ids>?\n",
    "\n",
    "# stop_times.txt\n",
    "  # stop_id, route_id, ???\n",
    "\n",
    "# Use stops.txt and add list of routes for each stop\n",
    "  # "
   ]
  }
 ],
 "metadata": {
  "kernelspec": {
   "display_name": "Python 3",
   "language": "python",
   "name": "python3"
  },
  "language_info": {
   "codemirror_mode": {
    "name": "ipython",
    "version": 3
   },
   "file_extension": ".py",
   "mimetype": "text/x-python",
   "name": "python",
   "nbconvert_exporter": "python",
   "pygments_lexer": "ipython3",
   "version": "3.8.10"
  }
 },
 "nbformat": 4,
 "nbformat_minor": 2
}
